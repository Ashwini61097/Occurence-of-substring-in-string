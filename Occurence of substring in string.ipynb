{
 "cells": [
  {
   "cell_type": "markdown",
   "id": "fe430096",
   "metadata": {},
   "source": [
    "In this challenge, the user enters a string and a substring. You have to print the number of times that the substring occurs in the given string. \n",
    "String traversal will take place from left to right, not from right to left.\n",
    "\n",
    "\n",
    "NOTE: String letters are case-sensitive.\n"
   ]
  },
  {
   "cell_type": "code",
   "execution_count": 1,
   "id": "a7b2237d",
   "metadata": {},
   "outputs": [
    {
     "name": "stdout",
     "output_type": "stream",
     "text": [
      "ThIsisCoNfUsInG\n",
      "is\n",
      "1\n"
     ]
    }
   ],
   "source": [
    "# Date: 17/11/2022\n",
    "\n",
    "'''\n",
    "\n",
    "Input Format\n",
    "\n",
    "The first line of input contains the original string. The next line contains the substring.\n",
    "\n",
    "Constraints\n",
    "1 <= len(string) <= 200\n",
    "\n",
    "Each character in the string is an ascii character.\n",
    "\n",
    "Output Format\n",
    "\n",
    "Output the integer number indicating the total number of occurrences of the substring in the original string.\n",
    "\n",
    "'''\n",
    "\n",
    "def count_substring(string, sub_string):\n",
    "  if(len(string)>0 and len(string)<201):\n",
    "    s = string\n",
    "    s1 = sub_string \n",
    "    m = len(s)\n",
    "    n = len(s1)\n",
    "    c = 0\n",
    "    for i in range(m - n + 1):\n",
    "      j = 0\n",
    "      nl = 0\n",
    "      for n in range(len(s1)):\n",
    "        if(s[i + n] == s1[j+n]):\n",
    "          nl += 1\n",
    "      if(nl == len(s1)):\n",
    "        c += 1\n",
    "\n",
    "  return(c)\n",
    "\n",
    "if __name__ == '__main__':\n",
    "    string = input().strip()\n",
    "    sub_string = input().strip()\n",
    "    count = count_substring(string, sub_string)\n",
    "    print(count)\n"
   ]
  },
  {
   "cell_type": "code",
   "execution_count": null,
   "id": "7fe8e0c6",
   "metadata": {},
   "outputs": [],
   "source": []
  }
 ],
 "metadata": {
  "kernelspec": {
   "display_name": "Python 3 (ipykernel)",
   "language": "python",
   "name": "python3"
  },
  "language_info": {
   "codemirror_mode": {
    "name": "ipython",
    "version": 3
   },
   "file_extension": ".py",
   "mimetype": "text/x-python",
   "name": "python",
   "nbconvert_exporter": "python",
   "pygments_lexer": "ipython3",
   "version": "3.9.12"
  }
 },
 "nbformat": 4,
 "nbformat_minor": 5
}
